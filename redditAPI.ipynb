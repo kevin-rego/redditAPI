{
  "nbformat": 4,
  "nbformat_minor": 0,
  "metadata": {
    "colab": {
      "provenance": [],
      "authorship_tag": "ABX9TyMpJGvQtVxBmJ3wdLb3WoXF",
      "include_colab_link": true
    },
    "kernelspec": {
      "name": "python3",
      "display_name": "Python 3"
    },
    "language_info": {
      "name": "python"
    }
  },
  "cells": [
    {
      "cell_type": "markdown",
      "metadata": {
        "id": "view-in-github",
        "colab_type": "text"
      },
      "source": [
        "<a href=\"https://colab.research.google.com/github/kevin-rego/redditAPI/blob/main/redditAPI.ipynb\" target=\"_parent\"><img src=\"https://colab.research.google.com/assets/colab-badge.svg\" alt=\"Open In Colab\"/></a>"
      ]
    },
    {
      "cell_type": "code",
      "execution_count": 1,
      "metadata": {
        "id": "ReheziLKqq6L"
      },
      "outputs": [],
      "source": [
        "CLIENT_ID='CLIENT_ID'\n",
        "SECRET_KEY='SECRET_KEY'"
      ]
    },
    {
      "cell_type": "code",
      "source": [
        "import requests"
      ],
      "metadata": {
        "id": "OJEjDE9arAgZ"
      },
      "execution_count": 2,
      "outputs": []
    },
    {
      "cell_type": "code",
      "source": [
        "auth = requests.auth.HTTPBasicAuth(CLIENT_ID, SECRET_KEY)\n"
      ],
      "metadata": {
        "id": "cIjfEf9GrEgy"
      },
      "execution_count": 3,
      "outputs": []
    },
    {
      "cell_type": "code",
      "source": [
        "data = {\n",
        "    'grant_type' : 'password',\n",
        "    'username' : 'username',\n",
        "    'password' : 'password'\n",
        "}"
      ],
      "metadata": {
        "id": "nD_QcKWRrWDx"
      },
      "execution_count": 4,
      "outputs": []
    },
    {
      "cell_type": "code",
      "source": [],
      "metadata": {
        "id": "PlPqFWly5cEu"
      },
      "execution_count": null,
      "outputs": []
    },
    {
      "cell_type": "code",
      "source": [
        "headers = {'User-Agent': 'MyAPI/0.0.1'}"
      ],
      "metadata": {
        "id": "aR63EtJHrmLQ"
      },
      "execution_count": 5,
      "outputs": []
    },
    {
      "cell_type": "code",
      "source": [
        "res = requests.post('https://www.reddit.com/api/v1/access_token',\n",
        "                    auth=auth, data=data, headers=headers)"
      ],
      "metadata": {
        "id": "nmwqoNxmrvTB"
      },
      "execution_count": 6,
      "outputs": []
    },
    {
      "cell_type": "code",
      "source": [
        "TOKEN = res.json()['access_token']"
      ],
      "metadata": {
        "id": "rf2T08U4r_LS"
      },
      "execution_count": 7,
      "outputs": []
    },
    {
      "cell_type": "code",
      "source": [
        "headers['Authorization'] = f'bearer{TOKEN}'"
      ],
      "metadata": {
        "id": "m6jwPEYdsFiq"
      },
      "execution_count": 9,
      "outputs": []
    },
    {
      "cell_type": "code",
      "source": [
        "res = requests.post('https://www.reddit.com/api/v1/access_token',\n",
        "                    auth=auth, data=data, headers=headers)"
      ],
      "metadata": {
        "id": "4pPinFR8sjj5"
      },
      "execution_count": 11,
      "outputs": []
    },
    {
      "cell_type": "code",
      "source": [
        "res = requests.get('https://oauth.reddit.com/api/v1/me', headers=headers)\n"
      ],
      "metadata": {
        "id": "PkDtFrLz1hjy"
      },
      "execution_count": 13,
      "outputs": []
    },
    {
      "cell_type": "code",
      "source": [
        "res = requests.get(\"https://oauth.reddit.com/r/python/hot\",\n",
        "                   headers=headers)\n"
      ],
      "metadata": {
        "id": "eFTfNiPL2CBE"
      },
      "execution_count": 14,
      "outputs": []
    },
    {
      "cell_type": "code",
      "source": [
        "import praw\n",
        "\n",
        "# Initialize a Reddit instance with appropriate credentials\n",
        "reddit = praw.Reddit(client_id=CLIENT_ID,\n",
        "                     client_secret=SECRET_KEY,\n",
        "                     user_agent='tutorialAPI')\n",
        "\n",
        "# Define the subreddit and get its top 1000 comments\n",
        "subreddit = reddit.subreddit('wallstreetbets')\n",
        "comments = subreddit.comments(limit=10)\n",
        "\n",
        "# Create a dictionary to store the number of comments for each user\n",
        "users = {}\n",
        "for comment in comments:\n",
        "    author = comment.author.name\n",
        "    if author in users:\n",
        "        users[author] += 1\n",
        "    else:\n",
        "        users[author] = 1\n",
        "\n",
        "# Get the user with the most comments\n",
        "most_comments_user = max(users, key=users.get)\n",
        "\n",
        "# Print the results\n",
        "for user in users:\n",
        "  print(user)\n"
      ],
      "metadata": {
        "colab": {
          "base_uri": "https://localhost:8080/"
        },
        "id": "XHGUa2KQQpEF",
        "outputId": "dc4ffb92-181e-4932-acb9-eb244a4fb754"
      },
      "execution_count": 18,
      "outputs": [
        {
          "output_type": "stream",
          "name": "stderr",
          "text": [
            "WARNING:praw:It appears that you are using PRAW in an asynchronous environment.\n",
            "It is strongly recommended to use Async PRAW: https://asyncpraw.readthedocs.io.\n",
            "See https://praw.readthedocs.io/en/latest/getting_started/multiple_instances.html#discord-bots-and-asynchronous-environments for more info.\n",
            "\n"
          ]
        },
        {
          "output_type": "stream",
          "name": "stdout",
          "text": [
            "Friendly_Duck_5587\n",
            "kopfgeldjagar\n",
            "Caeldeth\n",
            "Chalimis\n",
            "Throwawayforapppp\n",
            "VisualMod\n",
            "FlacidEmu\n",
            "kronosbit\n",
            "trust_it_bb\n",
            "CocaneCowboy\n"
          ]
        }
      ]
    },
    {
      "cell_type": "code",
      "source": [
        "import requests\n",
        "\n",
        "# Define the subreddit and set up the API endpoint URL\n",
        "subreddit = 'wallstreetbets'\n",
        "url = f'https://www.reddit.com/r/{subreddit}/comments/.json'\n",
        "\n",
        "# Set up the user agent and make the request to the API\n",
        "headers = {'User-Agent': 'myBot/0.0.1'}\n",
        "response = requests.get(url, headers=headers)\n",
        "\n",
        "# Parse the JSON response into Python objects\n",
        "data = response.json()\n",
        "\n",
        "# Create a dictionary to store the number of comments for each user\n",
        "users = {}\n",
        "for comment in data['data']['children']:\n",
        "    author = comment['data']['author']\n",
        "    if author in users:\n",
        "        users[author] += 1\n",
        "    else:\n",
        "        users[author] = 1\n",
        "\n",
        "# Get the user with the most comments\n",
        "most_comments_user = max(users, key=users.get)\n",
        "\n",
        "# Print the results\n",
        "print(f\"The user with the most comments on r/{subreddit} is {most_comments_user} with {users[most_comments_user]} comments.\")"
      ],
      "metadata": {
        "colab": {
          "base_uri": "https://localhost:8080/"
        },
        "id": "lTbDKpDCWESQ",
        "outputId": "c146925f-e01d-44f7-e8bb-ae6b5ddee353"
      },
      "execution_count": 19,
      "outputs": [
        {
          "output_type": "stream",
          "name": "stdout",
          "text": [
            "The user with the most comments on r/wallstreetbets is Friendly_Duck_5587 with 2 comments.\n"
          ]
        }
      ]
    }
  ]
}